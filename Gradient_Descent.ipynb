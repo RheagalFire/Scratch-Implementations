{
 "cells": [
  {
   "cell_type": "markdown",
   "metadata": {},
   "source": [
    "# Gradient Descent"
   ]
  },
  {
   "cell_type": "markdown",
   "metadata": {},
   "source": [
    "## Importing Libraries"
   ]
  },
  {
   "cell_type": "code",
   "execution_count": 1,
   "metadata": {},
   "outputs": [],
   "source": [
    "import numpy as np \n",
    "import matplotlib.pyplot as plt"
   ]
  },
  {
   "cell_type": "markdown",
   "metadata": {},
   "source": [
    "## Creating random data"
   ]
  },
  {
   "cell_type": "code",
   "execution_count": 2,
   "metadata": {},
   "outputs": [],
   "source": [
    "from sklearn.datasets import make_regression\n",
    "X,y = make_regression(n_samples = 500,n_features = 1,n_informative=1,noise=6,bias=10,random_state = 200)"
   ]
  },
  {
   "cell_type": "code",
   "execution_count": 3,
   "metadata": {},
   "outputs": [
    {
     "data": {
      "text/plain": [
       "array([[-1.79474979],\n",
       "       [ 1.58203196],\n",
       "       [ 0.06986397],\n",
       "       [ 0.7125135 ],\n",
       "       [ 0.29745439]])"
      ]
     },
     "execution_count": 3,
     "metadata": {},
     "output_type": "execute_result"
    }
   ],
   "source": [
    "X[:5]"
   ]
  },
  {
   "cell_type": "code",
   "execution_count": 4,
   "metadata": {},
   "outputs": [
    {
     "data": {
      "text/plain": [
       "array([-10.27153024,  38.51059952,  14.61180146,  15.94569609,\n",
       "         6.68362823])"
      ]
     },
     "execution_count": 4,
     "metadata": {},
     "output_type": "execute_result"
    }
   ],
   "source": [
    "y[:5]"
   ]
  },
  {
   "cell_type": "markdown",
   "metadata": {},
   "source": [
    "## Plotting data"
   ]
  },
  {
   "cell_type": "code",
   "execution_count": 5,
   "metadata": {},
   "outputs": [
    {
     "data": {
      "text/plain": [
       "<matplotlib.collections.PathCollection at 0x7fee54ecffd0>"
      ]
     },
     "execution_count": 5,
     "metadata": {},
     "output_type": "execute_result"
    },
    {
     "data": {
      "image/png": "[encoded data removed]",
      "text/plain": [
       "<Figure size 432x288 with 1 Axes>"
      ]
     },
     "metadata": {
      "needs_background": "light"
     },
     "output_type": "display_data"
    }
   ],
   "source": [
    "plt.scatter(X,y)"
   ]
  },
  {
   "cell_type": "markdown",
   "metadata": {},
   "source": [
    "## Gradient Descent Implementation"
   ]
  },
  {
   "cell_type": "code",
   "execution_count": 7,
   "metadata": {},
   "outputs": [],
   "source": [
    "class GradientDescent:\n",
    "    def __init__(self,learning_rate=0.0001,epochs=100):\n",
    "        self.lr = learning_rate\n",
    "        self.epochs = epochs\n",
    "        self.m = None\n",
    "        self.b = None\n",
    "    def fit(self,X,y):\n",
    "        y_pred = np.zeros(len(y))\n",
    "        n = X.shape[0]\n",
    "        \n",
    "        self.m = 0\n",
    "        self.b = 0\n",
    "        \n",
    "        for epoch in range(self.epochs):\n",
    "            y_pred = self.m*X + self.b\n",
    "            cost = (1/(2*n))*sum([val**2 for val in (y_pred-y)])\n",
    "            derivative_wrt_m = (1/n)*sum((y_pred - y)*X)\n",
    "            derivative_wrt_b = (1/n)*sum(y_pred - y)\n",
    "            self.m = self.m - self.lr*derivative_wrt_m\n",
    "            self.b = self.b - self.lr*derivative_wrt_b\n",
    "            print(\"m: {},  b: {},  Epoch: {},  cost: {}   \".format(self.m,self.b,epoch,cost))\n",
    "        return self.m,self.b,cost\n",
    "    def predict(self,X):\n",
    "        output = self.m*X + self.b\n",
    "        return output"
   ]
  },
  {
   "cell_type": "markdown",
   "metadata": {},
   "source": [
    "## Setting feature and target variables"
   ]
  },
  {
   "cell_type": "code",
   "execution_count": 8,
   "metadata": {},
   "outputs": [],
   "source": [
    "features = np.array(X).reshape(-1)\n",
    "target = np.array(y)"
   ]
  },
  {
   "cell_type": "markdown",
   "metadata": {},
   "source": [
    "## Fitting the data"
   ]
  },
  {
   "cell_type": "code",
   "execution_count": 19,
   "metadata": {
    "scrolled": true
   },
   "outputs": [
    {
     "name": "stdout",
     "output_type": "stream",
     "text": [
      "m: 0.12186271323197546,  b: 0.10325970461908933,  Epoch: 0,  cost: 142.0453433987273   \n",
      "m: 0.24249612458976605,  b: 0.2054522061290412,  Epoch: 1,  cost: 139.50703490827888   \n",
      "m: 0.3619126420332733,  b: 0.30658852565294487,  Epoch: 2,  cost: 137.02019877537805   \n",
      "m: 0.48012454821184336,  b: 0.40667957057909854,  Epoch: 3,  cost: 134.5837910842525   \n",
      "m: 0.5971440017304949,  b: 0.5057361357339416,  Epoch: 4,  cost: 132.19678909373533   \n",
      "m: 0.7129830384033449,  b: 0.6037689045428999,  Epoch: 5,  cost: 129.8581908077105   \n",
      "m: 0.827653572494362,  b: 0.7007884501792643,  Epoch: 6,  cost: 127.56701455426911   \n",
      "m: 0.9411673979455765,  b: 0.7968052367012305,  Epoch: 7,  cost: 125.3222985734073   \n",
      "m: 1.0535361895928725,  b: 0.8918296201772176,  Epoch: 8,  cost: 123.12310061308808   \n",
      "m: 1.1647715043694902,  b: 0.9858718497995896,  Epoch: 9,  cost: 120.96849753349852   \n",
      "m: 1.274884782497359,  b: 1.0789420689868976,  Epoch: 10,  cost: 118.85758491933555   \n",
      "m: 1.383887348666388,  b: 1.1710503164747605,  Epoch: 11,  cost: 116.78947669995999   \n",
      "m: 1.491790413201834,  b: 1.2622065273955034,  Epoch: 12,  cost: 114.76330477725348   \n",
      "m: 1.5986050732198678,  b: 1.3524205343466666,  Epoch: 13,  cost: 112.77821866102992   \n",
      "m: 1.7043423137714582,  b: 1.4417020684485027,  Epoch: 14,  cost: 110.83338511184053   \n",
      "m: 1.8090130089746912,  b: 1.5300607603905727,  Epoch: 15,  cost: 108.92798779102701   \n",
      "m: 1.9126279231356438,  b: 1.6175061414675556,  Epoch: 16,  cost: 107.06122691787573   \n",
      "m: 2.015197711857925,  b: 1.704047644604381,  Epoch: 17,  cost: 105.23231893372453   \n",
      "m: 2.1167329231410004,  b: 1.789694605370796,  Epoch: 18,  cost: 103.44049617288857   \n",
      "m: 2.217243998467413,  b: 1.8744562629854729,  Epoch: 19,  cost: 101.6850065402586   \n",
      "m: 2.3167412738790154,  b: 1.9583417613097687,  Epoch: 20,  cost: 99.96511319544224   \n",
      "m: 2.415234981042319,  b: 2.0413601498312417,  Epoch: 21,  cost: 98.28009424331276   \n",
      "m: 2.5127352483030743,  b: 2.123520384637028,  Epoch: 22,  cost: 96.62924243083675   \n",
      "m: 2.609252101730193,  b: 2.204831329377188,  Epoch: 23,  cost: 95.01186485005171   \n",
      "m: 2.704795466149113,  b: 2.2853017562181197,  Epoch: 24,  cost: 93.42728264706943   \n",
      "m: 2.7993751661647197,  b: 2.3649403467861467,  Epoch: 25,  cost: 91.8748307369849   \n",
      "m: 2.8930009271739268,  b: 2.4437556931013797,  Epoch: 26,  cost: 90.35385752456668   \n",
      "m: 2.9856823763680196,  b: 2.5217562985019506,  Epoch: 27,  cost: 88.8637246306156   \n",
      "m: 3.0774290437248664,  b: 2.598950578558721,  Epoch: 28,  cost: 87.40380662387453   \n",
      "m: 3.1682503629911,  b: 2.675346861980559,  Epoch: 29,  cost: 85.9734907583765   \n",
      "m: 3.2581556726543712,  b: 2.750953391510291,  Epoch: 30,  cost: 84.57217671612239   \n",
      "m: 3.3471542169057735,  b: 2.8257783248114077,  Epoch: 31,  cost: 83.19927635497872   \n",
      "m: 3.4352551465925383,  b: 2.89982973534564,  Epoch: 32,  cost: 81.85421346168972   \n",
      "m: 3.5224675201611007,  b: 2.973115613241481,  Epoch: 33,  cost: 80.53642350990033   \n",
      "m: 3.6088003045906327,  b: 3.0456438661537604,  Epoch: 34,  cost: 79.24535342308847   \n",
      "m: 3.694262376317139,  b: 3.1174223201143536,  Epoch: 35,  cost: 77.98046134230671   \n",
      "m: 3.7788625221482106,  b: 3.188458720374124,  Epoch: 36,  cost: 76.74121639863563   \n",
      "m: 3.862609440168536,  b: 3.2587607322361865,  Epoch: 37,  cost: 75.52709849025428   \n",
      "m: 3.945511740636252,  b: 3.3283359418805785,  Epoch: 38,  cost: 74.33759806403181   \n",
      "m: 4.0275779468702435,  b: 3.397191857180432,  Epoch: 39,  cost: 73.17221590155182   \n",
      "m: 4.108816496128465,  b: 3.4653359085097306,  Epoch: 40,  cost: 72.03046290947613   \n",
      "m: 4.189235740477387,  b: 3.5327754495427426,  Epoch: 41,  cost: 70.91185991416225   \n",
      "m: 4.268843947652662,  b: 3.5995177580452076,  Epoch: 42,  cost: 69.81593746044763   \n",
      "m: 4.347649301911074,  b: 3.6655700366573707,  Epoch: 43,  cost: 68.74223561451522   \n",
      "m: 4.4256599048738945,  b: 3.730939413668944,  Epoch: 44,  cost: 67.69030377075906   \n",
      "m: 4.502883776361703,  b: 3.7956329437860785,  Epoch: 45,  cost: 66.6597004625677   \n",
      "m: 4.579328855220768,  b: 3.8596576088904277,  Epoch: 46,  cost: 65.6499931769458   \n",
      "m: 4.655003000141087,  b: 3.9230203187903885,  Epoch: 47,  cost: 64.66075817289745   \n",
      "m: 4.729913990466143,  b: 3.985727911964596,  Epoch: 48,  cost: 63.691580303492785   \n",
      "m: 4.804069526994486,  b: 4.047787156297754,  Epoch: 49,  cost: 62.74205284154535   \n",
      "m: 4.877477232773212,  b: 4.109204749808877,  Epoch: 50,  cost: 61.81177730882504   \n",
      "m: 4.950144653883415,  b: 4.169987321372032,  Epoch: 51,  cost: 60.9003633087362   \n",
      "m: 5.022079260217707,  b: 4.230141431429637,  Epoch: 52,  cost: 60.00742836238998   \n",
      "m: 5.0932884462498755,  b: 4.289673572698419,  Epoch: 53,  cost: 59.132597748002574   \n",
      "m: 5.1637795317967665,  b: 4.348590170868086,  Epoch: 54,  cost: 58.27550434355064   \n",
      "m: 5.233559762772458,  b: 4.406897585292796,  Epoch: 55,  cost: 57.43578847261926   \n",
      "m: 5.30263631193482,  b: 4.464602109675504,  Epoch: 56,  cost: 56.61309775337756   \n",
      "m: 5.3710162796245235,  b: 4.521709972745245,  Epoch: 57,  cost: 55.807086950617325   \n",
      "m: 5.438706694496581,  b: 4.578227338927436,  Epoch: 58,  cost: 55.017417830793   \n",
      "m: 5.505714514244494,  b: 4.634160309007276,  Epoch: 59,  cost: 54.2437590200035   \n",
      "m: 5.572046626317085,  b: 4.689514920786292,  Epoch: 60,  cost: 53.485785864853646   \n",
      "m: 5.637709848628073,  b: 4.744297149732128,  Epoch: 61,  cost: 52.74318029613953   \n",
      "m: 5.702710930258492,  b: 4.798512909621629,  Epoch: 62,  cost: 52.01563069529812   \n",
      "m: 5.767056552152,  b: 4.852168053177296,  Epoch: 63,  cost: 51.30283176356654   \n",
      "m: 5.830753327803164,  b: 4.905268372697178,  Epoch: 64,  cost: 50.604484393795595   \n",
      "m: 5.893807803938788,  b: 4.957819600678273,  Epoch: 65,  cost: 49.92029554486363   \n",
      "m: 5.956226461192358,  b: 5.009827410433494,  Epoch: 66,  cost: 49.249978118637934   \n",
      "m: 6.018015714771663,  b: 5.061297416702283,  Epoch: 67,  cost: 48.59325083943179   \n",
      "m: 6.079181915119678,  b: 5.112235176254924,  Epoch: 68,  cost: 47.94983813590801   \n",
      "m: 6.13973134856876,  b: 5.162646188490625,  Epoch: 69,  cost: 47.31947002537662   \n",
      "m: 6.199670237988237,  b: 5.212535896029438,  Epoch: 70,  cost: 46.701882000440364   \n",
      "m: 6.259004743425451,  b: 5.261909685298067,  Epoch: 71,  cost: 46.09681491794015   \n",
      "m: 6.317740962740319,  b: 5.310772887109648,  Epoch: 72,  cost: 45.50401489015228   \n",
      "m: 6.375884932233488,  b: 5.359130777237537,  Epoch: 73,  cost: 44.923233178193655   \n",
      "m: 6.433442627268133,  b: 5.406988576983196,  Epoch: 74,  cost: 44.354226087588835   \n",
      "m: 6.490419962885477,  b: 5.454351453738211,  Epoch: 75,  cost: 43.79675486595543   \n",
      "m: 6.5468227944140915,  b: 5.501224521540528,  Epoch: 76,  cost: 43.25058560276615   \n",
      "m: 6.602656918073031,  b: 5.547612841624936,  Epoch: 77,  cost: 42.71548913114204   \n",
      "m: 6.65792807156888,  b: 5.593521422967895,  Epoch: 78,  cost: 42.19124093164044   \n",
      "m: 6.712641934686766,  b: 5.638955222826729,  Epoch: 79,  cost: 41.677621037992274   \n",
      "m: 6.766804129875394,  b: 5.683919147273266,  Epoch: 80,  cost: 41.17441394475322   \n",
      "m: 6.820420222826173,  b: 5.728418051721977,  Epoch: 81,  cost: 40.68140851682706   \n",
      "m: 6.87349572304649,  b: 5.772456741452668,  Epoch: 82,  cost: 40.198397900825256   \n",
      "m: 6.9260360844271895,  b: 5.816039972127778,  Epoch: 83,  cost: 39.72517943822368   \n",
      "m: 6.978046705804315,  b: 5.859172450304349,  Epoch: 84,  cost: 39.26155458028152   \n",
      "m: 7.029532931515182,  b: 5.901858833940715,  Epoch: 85,  cost: 38.80732880468633   \n",
      "m: 7.080500051948821,  b: 5.944103732897963,  Epoch: 86,  cost: 38.36231153388886   \n",
      "m: 7.130953304090866,  b: 5.985911709436225,  Epoch: 87,  cost: 37.92631605509568   \n",
      "m: 7.1808978720629355,  b: 6.027287278705859,  Epoch: 88,  cost: 37.499159441883954   \n",
      "m: 7.230338887656555,  b: 6.068234909233549,  Epoch: 89,  cost: 37.08066247740633   \n",
      "m: 7.279281430861697,  b: 6.108759023403412,  Epoch: 90,  cost: 36.670649579153995   \n",
      "m: 7.327730530389967,  b: 6.148863997933126,  Epoch: 91,  cost: 36.26894872524532   \n",
      "m: 7.375691164192513,  b: 6.188554164345162,  Epoch: 92,  cost: 35.87539138221018   \n",
      "m: 7.423168259972692,  b: 6.2278338094331485,  Epoch: 93,  cost: 35.48981243423884   \n",
      "m: 7.470166695693564,  b: 6.266707175723428,  Epoch: 94,  cost: 35.1120501138661   \n",
      "m: 7.516691300080253,  b: 6.305178461931857,  Epoch: 95,  cost: 34.74194593406154   \n",
      "m: 7.562746853117232,  b: 6.343251823415891,  Epoch: 96,  cost: 34.37934462169684   \n",
      "m: 7.608338086540583,  b: 6.380931372622013,  Epoch: 97,  cost: 34.02409405236352   \n",
      "m: 7.6534696843252865,  b: 6.41822117952854,  Epoch: 98,  cost: 33.6760451865119   \n",
      "m: 7.6981462831675795,  b: 6.455125272083873,  Epoch: 99,  cost: 33.33505200688624   \n",
      "m: 7.742372472962447,  b: 6.491647636640218,  Epoch: 100,  cost: 33.00097145722807   \n",
      "m: 7.78615279727628,  b: 6.52779221838284,  Epoch: 101,  cost: 32.67366338222391   \n",
      "m: 7.829491753814769,  b: 6.563562921754886,  Epoch: 102,  cost: 32.35299046867023   \n",
      "m: 7.872393794886057,  b: 6.598963610877837,  Epoch: 103,  cost: 32.03881818783222   \n",
      "m: 7.914863327859221,  b: 6.633998109967607,  Epoch: 104,  cost: 31.7310147389717   \n",
      "m: 7.9569047156181165,  b: 6.668670203746366,  Epoch: 105,  cost: 31.429450994020407   \n",
      "m: 7.998522277010639,  b: 6.70298363785011,  Epoch: 106,  cost: 31.13400044337558   \n",
      "m: 8.039720287293443,  b: 6.736942119232026,  Epoch: 107,  cost: 30.844539142795185   \n",
      "m: 8.08050297857217,  b: 6.770549316561699,  Epoch: 108,  cost: 30.560945661369797   \n",
      "m: 8.120874540237224,  b: 6.803808860620201,  Epoch: 109,  cost: 30.28310103055049   \n",
      "m: 8.160839119395153,  b: 6.8367243446911115,  Epoch: 110,  cost: 30.010888694209925   \n",
      "m: 8.200400821295656,  b: 6.8692993249474945,  Epoch: 111,  cost: 29.744194459717118   \n",
      "m: 8.239563709754293,  b: 6.901537320834891,  Epoch: 112,  cost: 29.482906450003664   \n",
      "m: 8.278331807570913,  b: 6.9334418154503625,  Epoch: 113,  cost: 29.22691505660326   \n",
      "m: 8.316709096943852,  b: 6.96501625591762,  Epoch: 114,  cost: 28.976112893642842   \n",
      "m: 8.354699519879956,  b: 6.996264053758292,  Epoch: 115,  cost: 28.7303947527675   \n",
      "m: 8.392306978600457,  b: 7.0271885852593545,  Epoch: 116,  cost: 28.48965755897936   \n",
      "m: 8.42953533594274,  b: 7.057793191836778,  Epoch: 117,  cost: 28.253800327372456   \n",
      "m: 8.46638841575806,  b: 7.08808118039542,  Epoch: 118,  cost: 28.02272412074495   \n",
      "m: 8.502870003305238,  b: 7.11805582368521,  Epoch: 119,  cost: 27.796332008071026   \n",
      "m: 8.538983845640384,  b: 7.147720360653653,  Epoch: 120,  cost: 27.574529023815344   \n",
      "m: 8.574733652002669,  b: 7.17707799679471,  Epoch: 121,  cost: 27.35722212807275   \n",
      "m: 8.610123094196206,  b: 7.206131904494064,  Epoch: 122,  cost: 27.144320167516103   \n",
      "m: 8.645155806968084,  b: 7.234885223370839,  Epoch: 123,  cost: 26.935733837136517   \n",
      "m: 8.679835388382566,  b: 7.26334106061579,  Epoch: 124,  cost: 26.73137564275959   \n",
      "m: 8.71416540019151,  b: 7.291502491325999,  Epoch: 125,  cost: 26.531159864321676   \n",
      "m: 8.748149368201055,  b: 7.319372558836125,  Epoch: 126,  cost: 26.335002519891397   \n",
      "m: 8.781790782634596,  b: 7.346954275046238,  Epoch: 127,  cost: 26.142821330420418   \n",
      "m: 8.815093098492092,  b: 7.374250620746269,  Epoch: 128,  cost: 25.954535685209716   \n",
      "m: 8.848059735905743,  b: 7.40126454593711,  Epoch: 129,  cost: 25.770066608075687   \n",
      "m: 8.88069408049208,  b: 7.427998970148414,  Epoch: 130,  cost: 25.58933672420297   \n",
      "m: 8.91299948370049,  b: 7.454456782753101,  Epoch: 131,  cost: 25.41227022766948   \n",
      "m: 8.94497926315822,  b: 7.480640843278632,  Epoch: 132,  cost: 25.238792849629696   \n",
      "m: 8.976636703011904,  b: 7.506553981715068,  Epoch: 133,  cost: 25.06883182714408   \n",
      "m: 9.007975054265627,  b: 7.53219899881995,  Epoch: 134,  cost: 24.902315872639694   \n",
      "m: 9.038997535115584,  b: 7.557578666420038,  Epoch: 135,  cost: 24.73917514399119   \n",
      "m: 9.069707331281355,  b: 7.582695727709934,  Epoch: 136,  cost: 24.579341215208004   \n",
      "m: 9.100107596333832,  b: 7.607552897547628,  Epoch: 137,  cost: 24.422747047716133   \n",
      "m: 9.130201452019826,  b: 7.632152862746991,  Epoch: 138,  cost: 24.269326962222753   \n",
      "m: 9.159991988583412,  b: 7.656498282367254,  Epoch: 139,  cost: 24.11901661115101   \n",
      "m: 9.189482265084012,  b: 7.680591787999504,  Epoch: 140,  cost: 23.971752951634286   \n",
      "m: 9.218675309711266,  b: 7.704435984050214,  Epoch: 141,  cost: 23.827474219057827   \n",
      "m: 9.247574120096735,  b: 7.728033448021863,  Epoch: 142,  cost: 23.68611990113725   \n",
      "m: 9.276181663622436,  b: 7.75138673079065,  Epoch: 143,  cost: 23.54763071252286   \n",
      "m: 9.304500877726278,  b: 7.774498356881347,  Epoch: 144,  cost: 23.411948569918568   \n",
      "m: 9.332534670204396,  b: 7.797370824739315,  Epoch: 145,  cost: 23.279016567706044   \n",
      "m: 9.360285919510444,  b: 7.82000660699972,  Epoch: 146,  cost: 23.14877895406275   \n",
      "m: 9.387757475051858,  b: 7.842408150753965,  Epoch: 147,  cost: 23.021181107564782   \n",
      "m: 9.414952157483127,  b: 7.864577877813374,  Epoch: 148,  cost: 22.896169514263722   \n",
      "m: 9.441872758996098,  b: 7.886518184970162,  Epoch: 149,  cost: 22.77369174522894   \n",
      "m: 9.468522043607358,  b: 7.9082314442557085,  Epoch: 150,  cost: 22.653696434544983   \n",
      "m: 9.4949027474427,  b: 7.929720003196161,  Epoch: 151,  cost: 22.53613325775531   \n",
      "m: 9.521017579018727,  b: 7.950986185065416,  Epoch: 152,  cost: 22.420952910743395   \n",
      "m: 9.546869219521602,  b: 7.972032289135475,  Epoch: 153,  cost: 22.308107089041872   \n",
      "m: 9.57246032308299,  b: 7.99286059092423,  Epoch: 154,  cost: 22.19754846756151   \n",
      "m: 9.597793517053203,  b: 8.013473342440681,  Epoch: 155,  cost: 22.089230680731152   \n",
      "m: 9.622871402271599,  b: 8.03387277242764,  Epoch: 156,  cost: 21.98310830304064   \n",
      "m: 9.647696553334232,  b: 8.05406108660191,  Epoch: 157,  cost: 21.879136829978123   \n",
      "m: 9.672271518858814,  b: 8.074040467892006,  Epoch: 158,  cost: 21.777272659354093   \n",
      "m: 9.696598821746996,  b: 8.09381307667341,  Epoch: 159,  cost: 21.67747307300428   \n",
      "m: 9.72068095944399,  b: 8.113381051001408,  Epoch: 160,  cost: 21.5796962188634   \n",
      "m: 9.744520404195589,  b: 8.132746506841517,  Epoch: 161,  cost: 21.483901093402654   \n",
      "m: 9.76811960330256,  b: 8.151911538297544,  Epoch: 162,  cost: 21.39004752442322   \n",
      "m: 9.791480979372505,  b: 8.17087821783728,  Epoch: 163,  cost: 21.298096154199047   \n",
      "m: 9.814606930569141,  b: 8.18964859651588,  Epoch: 164,  cost: 21.208008422961004   \n",
      "m: 9.83749983085909,  b: 8.208224704196924,  Epoch: 165,  cost: 21.1197465527165   \n",
      "m: 9.860162030256157,  b: 8.226608549771209,  Epoch: 166,  cost: 21.033273531396993   \n",
      "m: 9.88259585506316,  b: 8.244802121373274,  Epoch: 167,  cost: 20.94855309732678   \n",
      "m: 9.90480360811129,  b: 8.262807386595702,  Epoch: 168,  cost: 20.86554972400739   \n",
      "m: 9.926787568997083,  b: 8.2806262927012,  Epoch: 169,  cost: 20.78422860520981   \n",
      "m: 9.948549994316975,  b: 8.298260766832499,  Epoch: 170,  cost: 20.704555640369687   \n",
      "m: 9.970093117899504,  b: 8.315712716220084,  Epoch: 171,  cost: 20.62649742027821   \n",
      "m: 9.99141915103515,  b: 8.332984028387779,  Epoch: 172,  cost: 20.550021213063587   \n",
      "m: 10.012530282703871,  b: 8.35007657135622,  Epoch: 173,  cost: 20.47509495045642   \n",
      "m: 10.033428679800332,  b: 8.366992193844219,  Epoch: 174,  cost: 20.401687214334213   \n",
      "m: 10.054116487356856,  b: 8.38373272546805,  Epoch: 175,  cost: 20.329767223537885   \n",
      "m: 10.074595828764126,  b: 8.400299976938694,  Epoch: 176,  cost: 20.25930482095655   \n",
      "m: 10.094868805989664,  b: 8.416695740257026,  Epoch: 177,  cost: 20.19027046087363   \n",
      "m: 10.11493749979409,  b: 8.432921788907004,  Epoch: 178,  cost: 20.12263519656971   \n",
      "m: 10.13480396994521,  b: 8.448979878046863,  Epoch: 179,  cost: 20.05637066817704   \n",
      "m: 10.154470255429931,  b: 8.46487174469833,  Epoch: 180,  cost: 19.9914490907799   \n",
      "m: 10.173938374664047,  b: 8.480599107933893,  Epoch: 181,  cost: 19.9278432427568   \n",
      "m: 10.19321032569989,  b: 8.496163669062131,  Epoch: 182,  cost: 19.865526454358665   \n",
      "m: 10.212288086431903,  b: 8.511567111811143,  Epoch: 183,  cost: 19.80447259651886   \n",
      "m: 10.231173614800115,  b: 8.526811102510068,  Epoch: 184,  cost: 19.744656069890173   \n",
      "m: 10.249868848991586,  b: 8.54189729026875,  Epoch: 185,  cost: 19.686051794103946   \n",
      "m: 10.268375707639793,  b: 8.556827307155535,  Epoch: 186,  cost: 19.628635197247213   \n",
      "m: 10.286696090022016,  b: 8.57160276837324,  Epoch: 187,  cost: 19.572382205553005   \n",
      "m: 10.30483187625473,  b: 8.586225272433303,  Epoch: 188,  cost: 19.51726923330014   \n",
      "m: 10.322784927487017,  b: 8.600696401328143,  Epoch: 189,  cost: 19.463273172917255   \n",
      "m: 10.340557086092034,  b: 8.615017720701733,  Epoch: 190,  cost: 19.410371385288094   \n",
      "m: 10.358150175856531,  b: 8.629190780018416,  Epoch: 191,  cost: 19.35854169025287   \n",
      "m: 10.375566002168478,  b: 8.64321711272998,  Epoch: 192,  cost: 19.3077623573028   \n",
      "m: 10.392806352202777,  b: 8.657098236441009,  Epoch: 193,  cost: 19.258012096462835   \n",
      "m: 10.409872995105108,  b: 8.670835653072526,  Epoch: 194,  cost: 19.209270049359585   \n",
      "m: 10.426767682173912,  b: 8.684430849023952,  Epoch: 195,  cost: 19.161515780470335   \n",
      "m: 10.443492147040548,  b: 8.697885295333384,  Epoch: 196,  cost: 19.114729268549347   \n",
      "m: 10.460048105847614,  b: 8.71120044783623,  Epoch: 197,  cost: 19.0688908982282   \n",
      "m: 10.47643725742548,  b: 8.724377747322203,  Epoch: 198,  cost: 19.023981451786582   \n",
      "m: 10.492661283467038,  b: 8.737418619690686,  Epoch: 199,  cost: 18.979982101089487   \n"
     ]
    }
   ],
   "source": [
    "model = GradientDescent(learning_rate=0.01,epochs=200)\n",
    "slope,intercept,cost = model.fit(features,target)"
   ]
  },
  {
   "cell_type": "markdown",
   "metadata": {},
   "source": [
    "### When cost : 127.567, At epoch : 6"
   ]
  },
  {
   "cell_type": "code",
   "execution_count": 10,
   "metadata": {},
   "outputs": [
    {
     "data": {
      "text/plain": [
       "[<matplotlib.lines.Line2D at 0x7fee54e21d00>]"
      ]
     },
     "execution_count": 10,
     "metadata": {},
     "output_type": "execute_result"
    },
    {
     "data": {
      "image/png": "[encoded data removed]",
      "text/plain": [
       "<Figure size 432x288 with 1 Axes>"
      ]
     },
     "metadata": {
      "needs_background": "light"
     },
     "output_type": "display_data"
    }
   ],
   "source": [
    "slope_cost0 = 0.82765\n",
    "inter_cost0 = 0.70078\n",
    "plt.scatter(X,y,color='y')\n",
    "plt.plot(X,slope_cost0*X+inter_cost0,linewidth = 3)"
   ]
  },
  {
   "cell_type": "markdown",
   "metadata": {},
   "source": [
    "### When cost : 107.061, At epoch : 16"
   ]
  },
  {
   "cell_type": "code",
   "execution_count": 11,
   "metadata": {},
   "outputs": [
    {
     "data": {
      "text/plain": [
       "[<matplotlib.lines.Line2D at 0x7fee54dfdc40>]"
      ]
     },
     "execution_count": 11,
     "metadata": {},
     "output_type": "execute_result"
    },
    {
     "data": {
      "image/png": "[encoded data removed]",
      "text/plain": [
       "<Figure size 432x288 with 1 Axes>"
      ]
     },
     "metadata": {
      "needs_background": "light"
     },
     "output_type": "display_data"
    }
   ],
   "source": [
    "slope_cost1 = 1.91262\n",
    "inter_cost1 = 1.61750\n",
    "plt.scatter(X,y,color='y')\n",
    "plt.plot(X,slope_cost1*X+inter_cost1,linewidth = 3)"
   ]
  },
  {
   "cell_type": "markdown",
   "metadata": {},
   "source": [
    "### When cost : 50.604, At epoch : 64"
   ]
  },
  {
   "cell_type": "code",
   "execution_count": 12,
   "metadata": {},
   "outputs": [
    {
     "data": {
      "text/plain": [
       "[<matplotlib.lines.Line2D at 0x7fee54db4730>]"
      ]
     },
     "execution_count": 12,
     "metadata": {},
     "output_type": "execute_result"
    },
    {
     "data": {
      "image/png": "[encoded data removed]",
      "text/plain": [
       "<Figure size 432x288 with 1 Axes>"
      ]
     },
     "metadata": {
      "needs_background": "light"
     },
     "output_type": "display_data"
    }
   ],
   "source": [
    "slope_cost2 = 5.83075\n",
    "inter_cost2 = 4.90526\n",
    "plt.scatter(X,y,color='y')\n",
    "plt.plot(X,slope_cost2*X+inter_cost2,linewidth = 3)"
   ]
  },
  {
   "cell_type": "markdown",
   "metadata": {},
   "source": [
    "### When cost : 18.979, At epoch : 200"
   ]
  },
  {
   "cell_type": "code",
   "execution_count": 20,
   "metadata": {},
   "outputs": [
    {
     "data": {
      "text/plain": [
       "[<matplotlib.lines.Line2D at 0x7fee54c545b0>]"
      ]
     },
     "execution_count": 20,
     "metadata": {},
     "output_type": "execute_result"
    },
    {
     "data": {
      "image/png": "[encoded data removed]",
      "text/plain": [
       "<Figure size 432x288 with 1 Axes>"
      ]
     },
     "metadata": {
      "needs_background": "light"
     },
     "output_type": "display_data"
    }
   ],
   "source": [
    "slope_cost3 = 10.49266\n",
    "inter_cost3 = 8.73741\n",
    "plt.scatter(X,y,color='y')\n",
    "plt.plot(X,slope_cost3*X+inter_cost3,linewidth = 3)"
   ]
  },
  {
   "cell_type": "markdown",
   "metadata": {},
   "source": [
    "## Optimal values of slope and intercept"
   ]
  },
  {
   "cell_type": "code",
   "execution_count": 21,
   "metadata": {},
   "outputs": [
    {
     "data": {
      "text/plain": [
       "[<matplotlib.lines.Line2D at 0x7fee54c2d8e0>]"
      ]
     },
     "execution_count": 21,
     "metadata": {},
     "output_type": "execute_result"
    },
    {
     "data": {
      "image/png": "[encoded data removed]",
      "text/plain": [
       "<Figure size 432x288 with 1 Axes>"
      ]
     },
     "metadata": {
      "needs_background": "light"
     },
     "output_type": "display_data"
    }
   ],
   "source": [
    "plt.scatter(X,y,color='c')\n",
    "plt.plot(X,slope*X+intercept,color='r',linewidth = 3)"
   ]
  },
  {
   "cell_type": "markdown",
   "metadata": {},
   "source": [
    "Hence, gradient descent runs iteratively (as given in epochs) and gives the optimal parameters corresponding to the minimum cost."
   ]
  }
 ],
 "metadata": {
  "kernelspec": {
   "display_name": "ml_dl",
   "language": "python",
   "name": "ml_dl"
  },
  "language_info": {
   "codemirror_mode": {
    "name": "ipython",
    "version": 3
   },
   "file_extension": ".py",
   "mimetype": "text/x-python",
   "name": "python",
   "nbconvert_exporter": "python",
   "pygments_lexer": "ipython3",
   "version": "3.8.0"
  }
 },
 "nbformat": 4,
 "nbformat_minor": 4
}
